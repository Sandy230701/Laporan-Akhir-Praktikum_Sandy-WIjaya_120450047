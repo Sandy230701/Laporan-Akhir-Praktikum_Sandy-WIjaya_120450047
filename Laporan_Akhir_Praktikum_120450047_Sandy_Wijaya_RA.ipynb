{
  "nbformat": 4,
  "nbformat_minor": 0,
  "metadata": {
    "colab": {
      "name": "Laporan Akhir Praktikum_120450047_Sandy Wijaya_RA.ipynb",
      "private_outputs": true,
      "provenance": [],
      "collapsed_sections": []
    },
    "kernelspec": {
      "name": "python3",
      "display_name": "Python 3"
    },
    "language_info": {
      "name": "python"
    }
  },
  "cells": [
    {
      "cell_type": "markdown",
      "source": [
        "\n",
        "\n",
        "```\n",
        "Nama = Sandy Wijaya\n",
        "NIM = 120450047\n",
        "\n",
        "LAPORAN PRAKTIKUM``\n",
        "```\n",
        "\n"
      ],
      "metadata": {
        "id": "VMJLwK9rp2Tz"
      }
    },
    {
      "cell_type": "markdown",
      "source": [
        "PERTEMUAN 7- HIGHER ORDER FUNCTION (MAP)"
      ],
      "metadata": {
        "id": "TLliDCTjqXuz"
      }
    },
    {
      "cell_type": "markdown",
      "source": [
        "\n",
        "\n",
        "```\n",
        " 1. Given List p = ['a', 'k', 'u', 'l', 'u','p','a']\n",
        " we want to make list of tuples of p like this\n",
        " P’ = [ (1, ’a’ ) , (3, ‘k’), (5,’u’), (7,’l’ ) , (9,’u’), (11,’p’) , (13,’a’)\n",
        "\n",
        "\n",
        "```\n",
        "\n"
      ],
      "metadata": {
        "id": "AzvpdLfksaar"
      }
    },
    {
      "cell_type": "code",
      "execution_count": null,
      "metadata": {
        "id": "CO2UOoVbpzZB"
      },
      "outputs": [],
      "source": [
        "P= 'akulupa'\n",
        "print(*map(lambda p :(p[0]*2+1, p[1]), enumerate (P)))"
      ]
    },
    {
      "cell_type": "markdown",
      "source": [
        "\n",
        "\n",
        "```\n",
        "2. Terdapat bilangan B\n",
        "B = 24\n",
        "Petakan B menjadi list faktor nya!\n",
        "B’ = [ 1,2,3,4,6,8,12,24]`\n",
        "```\n",
        "\n"
      ],
      "metadata": {
        "id": "7WDcYb_tsPsL"
      }
    },
    {
      "cell_type": "code",
      "source": [
        "B= 24\n",
        "TWO =map(lambda b:b+1 if B% (b+1)== 0 else -1, range(B))\n",
        "def dua(TWO):\n",
        "  x=[]\n",
        "  for i in TWO:\n",
        "    if i != -1:\n",
        "      x.append(i)\n",
        "  return x\n",
        "print(dua(TWO))\n"
      ],
      "metadata": {
        "id": "Mo1OFoIzsEc-"
      },
      "execution_count": null,
      "outputs": []
    },
    {
      "cell_type": "markdown",
      "source": [
        "\n",
        "\n",
        "```\n",
        "3. Diketahui matriks A,B,C sebagai berikut\n",
        "A = [ [3 , 4] , [ 5, 6 ] ]\n",
        "B = [ [1,2] , [ 7 , 8] ]\n",
        "C = AB\n",
        "\n",
        "Buatlah program untuk menghitung determinan matriks C menggunakan HOF map!\n",
        "```\n",
        "\n"
      ],
      "metadata": {
        "id": "b3Di4DSHtWEJ"
      }
    },
    {
      "cell_type": "code",
      "source": [
        "A=[[3,4],[5,6]]\n",
        "B=[[1,2],[7,8]]\n",
        "C= list(map(lambda ra, rb:list(map(lambda raa, rbb: raa+rbb, ra, rb)),A,B))\n",
        "def dett(C):\n",
        "  return C[0][0]*C[1][1]-C[0][1]*C[1][0]\n",
        "print(dett(C))"
      ],
      "metadata": {
        "id": "OCOz9CQAthNK"
      },
      "execution_count": null,
      "outputs": []
    },
    {
      "cell_type": "markdown",
      "source": [
        "**PERTEMUAN** 9- HIGHER ORDER FUNTION (FILTER)"
      ],
      "metadata": {
        "id": "rT-378AnuafU"
      }
    },
    {
      "cell_type": "markdown",
      "source": [
        "\n",
        "\n",
        "```\n",
        "1. Buat program untuk menghitung deret bilangan prima dari 2 hingga N\n",
        "menggunakan HOF filter dan map\n",
        "\n",
        "Contoh primes(100):\n",
        "2 3 5 7 11 13 17 19 23 29 31 37 41 43 47 53 59 61 67 71 73 79 83 89 97\n",
        "```\n",
        "\n"
      ],
      "metadata": {
        "id": "u_SaibxxuiNA"
      }
    },
    {
      "cell_type": "code",
      "source": [
        "FAKTOR = lambda n: list(filter(lambda i:n%i==0, range(1, n+1)))\n",
        "primes = lambda n : filter(lambda i : len(FAKTOR(i))==2, range(1,n+1))\n",
        "print(*primes(100))"
      ],
      "metadata": {
        "id": "CW87e--Tu_gP"
      },
      "execution_count": null,
      "outputs": []
    },
    {
      "cell_type": "markdown",
      "source": [
        "\n",
        "\n",
        "```\n",
        "employee = {\n",
        "'Nagao':35,\n",
        "'Ishii':30,\n",
        "'Kazutomo':20,\n",
        "'Saito':25,\n",
        "'Hidemi':29\n",
        "}\n",
        "2. Terdapat dictionary employee berisi nama dan umur pegawai, lakukan filter untuk mengetahui pegawai\n",
        "yang berumur > 25 tahun !\n",
        "```\n",
        "\n"
      ],
      "metadata": {
        "id": "_8TT4XsRHoeH"
      }
    },
    {
      "cell_type": "code",
      "source": [
        "employee = {\n",
        "    'Nagao':35,\n",
        "    'Ishii':30,\n",
        "    'Kazutomo':20,\n",
        "    'Saito':25,\n",
        "    'Hidemi':29\n",
        "}\n",
        "print(employee.items())"
      ],
      "metadata": {
        "id": "_x4xhgQhHzV_"
      },
      "execution_count": null,
      "outputs": []
    },
    {
      "cell_type": "code",
      "source": [
        "filter_by_age=lambda age, employee : list(filter(lambda x:x [1]>=25, employee.items()))\n",
        "print(*map(lambda d:d[0],filter_by_age(25, employee)))"
      ],
      "metadata": {
        "id": "qIRi1R1CKRRI"
      },
      "execution_count": null,
      "outputs": []
    },
    {
      "cell_type": "markdown",
      "source": [
        "PERTEMUAN 10- HIGHER ORDER FUNCTION (REDUCE)"
      ],
      "metadata": {
        "id": "tephjFYLKs5R"
      }
    },
    {
      "cell_type": "markdown",
      "source": [
        "\n",
        "```\n",
        "1. Buat fungsi mencari jumlah bilangan genap dari list L!\n",
        "\n",
        "Contoh:\n",
        "L = [2,1,9,10,3,90,15]\n",
        "\n",
        "Output:\n",
        "3\n",
        "```\n",
        "\n"
      ],
      "metadata": {
        "id": "R3TdAhdCK009"
      }
    },
    {
      "cell_type": "code",
      "source": [
        "from functools import reduce as r\n",
        "L=[2,1,9,10,3,90,15]\n",
        "n_genap = lambda L:r(lambda a,b: a+1 if b%2 == 0 else a,L, 0)\n",
        "n_genap(L)"
      ],
      "metadata": {
        "id": "NHoMrm1oLNvZ"
      },
      "execution_count": null,
      "outputs": []
    },
    {
      "cell_type": "markdown",
      "source": [
        "\n",
        "\n",
        "```\n",
        "2. Buat fungsi untuk menghitung n! Menggunakan reduce!\n",
        "```\n",
        "\n"
      ],
      "metadata": {
        "id": "7kjPOV0uMoqj"
      }
    },
    {
      "cell_type": "code",
      "source": [
        "factor = lambda n:r(lambda a,b : a*b if b>1 else 1, range(1, n+1),1)\n",
        "for i in range(10+1):\n",
        "  print(str(i)+'!=',factor(i))"
      ],
      "metadata": {
        "id": "334SUztRLOiI"
      },
      "execution_count": null,
      "outputs": []
    },
    {
      "cell_type": "markdown",
      "source": [
        "\n",
        "\n",
        "```\n",
        "3. Hitung euclidian distance dari dua vektor berikut menggunakan higher order\n",
        "function!\n",
        "X = [2,5,6,7,10]\n",
        "Y = [-2,9,2,-1,10]\n",
        "```\n",
        "\n"
      ],
      "metadata": {
        "id": "XIf2BgtqMsLQ"
      }
    },
    {
      "cell_type": "code",
      "source": [
        "x= [2,5,6,7,10]\n",
        "y= [-2,9,2,-1,10]\n",
        "\n",
        "euclid = lambda x,y: r(lambda a,c: a+c, map(lambda x,y: (x-y)**2, x,y))**0.5\n",
        "euclid(x,y)"
      ],
      "metadata": {
        "id": "k0k6Er5tL0VB"
      },
      "execution_count": null,
      "outputs": []
    },
    {
      "cell_type": "markdown",
      "source": [
        "\n",
        "\n",
        "```\n",
        "4. Terdapat dictionary employee berisi nama dan umur pegawai, lakukan reduce untuk mengetahui\n",
        "berapa jumlah pegawai yang berumur > 25 tahun !\n",
        "employee = {\n",
        "'Nagao':35,\n",
        "'Ishii':30,\n",
        "'Kazutomo':20,\n",
        "'Saito':25,\n",
        "'Hidemi':29\n",
        "}\n",
        "```\n",
        "\n"
      ],
      "metadata": {
        "id": "wKz6C79fOUYL"
      }
    },
    {
      "cell_type": "code",
      "source": [
        "employee = {\n",
        "    'Nagao':35,\n",
        "    'Ishii':30,\n",
        "    'Kazutomo':20,\n",
        "    'Saito':25,\n",
        "    'Hidemi':29\n",
        "}\n",
        "cnt_emp = lambda lim,employee :r(lambda a,b : a+1 if b[1]>lim else a, employee.items(),0)\n",
        "cnt_emp(25, employee)"
      ],
      "metadata": {
        "id": "tFpW8JO4OaNY"
      },
      "execution_count": null,
      "outputs": []
    },
    {
      "cell_type": "markdown",
      "source": [
        "\n",
        "\n",
        "```\n",
        "5. Buatlah deret fibonacci menggunakan higher order function!\n",
        "```\n",
        "\n"
      ],
      "metadata": {
        "id": "2Oer0jbSNnc1"
      }
    },
    {
      "cell_type": "code",
      "source": [
        "fibo = lambda n:r(lambda a,b: a if b[0]<=1 else a + [a[b[0]-1] + a[b[0]-2]],\n",
        "                  enumerate([0,1]+list(range(1,n))),[0,1])if n>0 else[0]\n"
      ],
      "metadata": {
        "id": "6vcoF3WUNxHi"
      },
      "execution_count": null,
      "outputs": []
    },
    {
      "cell_type": "code",
      "source": [
        "for i in range(10):\n",
        "  print('fibonacci',i,'->',fibo(i))"
      ],
      "metadata": {
        "id": "YPt7PknLXSWL"
      },
      "execution_count": null,
      "outputs": []
    },
    {
      "cell_type": "markdown",
      "source": [
        "PERTEMUAN 11- RECUSION IN FP"
      ],
      "metadata": {
        "id": "hpr-zLp0TnWd"
      }
    },
    {
      "cell_type": "markdown",
      "source": [
        "\n",
        "\n",
        "```\n",
        "Buat sebuah program untuk membuat deret fibonacci dari 0 hingga N dengan\n",
        "menggunakan fungsi non-rekursif dan rekursif!\n",
        "\n",
        "Bandingkan keduanya jika nilai N = 500, Manakah yang lebih baik? Jelaskan!\n",
        "```\n",
        "\n"
      ],
      "metadata": {
        "id": "XI7f02OJTuCj"
      }
    },
    {
      "cell_type": "code",
      "source": [
        "fibo_rec = lambda n:0 if n==0 else 1 if (n==1 or n==2)else fibo_rec(n-1)+ fibo_rec(n-2)\n",
        "deret_fibo_rec = lambda n : list(map(lambda i : fibo_rec(i), range(n+1)))\n"
      ],
      "metadata": {
        "id": "O-mgED64Tmkn"
      },
      "execution_count": null,
      "outputs": []
    },
    {
      "cell_type": "code",
      "source": [
        "deret_fibo_rec(10)"
      ],
      "metadata": {
        "id": "3BLLIyUqW-EF"
      },
      "execution_count": null,
      "outputs": []
    },
    {
      "cell_type": "markdown",
      "source": [
        "PERTEMUAN 12- PURITY AND IMMUTABILITY"
      ],
      "metadata": {
        "id": "gIBrHgE3ohgw"
      }
    },
    {
      "cell_type": "markdown",
      "source": [
        "\n",
        "\n",
        "```\n",
        "Latihan 1\n",
        "\n",
        "Ubah fungsiku menjadi pure function!\n",
        "```\n",
        "\n"
      ],
      "metadata": {
        "id": "i46xHBRipUNz"
      }
    },
    {
      "cell_type": "code",
      "source": [
        "def fungsiku(L):\n",
        "  def check_genap(l):\n",
        "    return l % 2 == 0\n",
        "  for i in range(len(L)):\n",
        "    if check_genap(L[i]):\n",
        "       L[i]= L[i]/2\n",
        "    else:\n",
        "      L[i]=L[i]*n+1\n",
        "  return L"
      ],
      "metadata": {
        "id": "OHwmr9dVTtqh"
      },
      "execution_count": null,
      "outputs": []
    },
    {
      "cell_type": "code",
      "source": [
        "n = 3\n",
        "L =[5,6,7,8]\n",
        "print(fungsiku(L))"
      ],
      "metadata": {
        "id": "meDhZgRCp7u0"
      },
      "execution_count": null,
      "outputs": []
    },
    {
      "cell_type": "code",
      "source": [
        "print(L)"
      ],
      "metadata": {
        "id": "b96j0RvUsq5H"
      },
      "execution_count": null,
      "outputs": []
    },
    {
      "cell_type": "code",
      "source": [
        "n = 3\n",
        "L =[5,6,7,8]\n",
        "def fungsiku(L,n):\n",
        "  return list(map(lambda x:x/2 if x%2 == 0 else x*n+1, L))\n",
        "print(fungsiku(L,n))"
      ],
      "metadata": {
        "id": "aUauaMOCsrHg"
      },
      "execution_count": null,
      "outputs": []
    },
    {
      "cell_type": "code",
      "source": [
        "print(L)"
      ],
      "metadata": {
        "id": "P-Iz4mVVtmms"
      },
      "execution_count": null,
      "outputs": []
    },
    {
      "cell_type": "markdown",
      "source": [
        "\n",
        "\n",
        "```\n",
        "Latihan 2\n",
        "\n",
        "Ubah fungsiku2 menjadi pure function!\n",
        "```\n",
        "\n"
      ],
      "metadata": {
        "id": "dUgRP6Ontr-C"
      }
    },
    {
      "cell_type": "code",
      "source": [
        "def fungsiku2(L):\n",
        "  def check_faktor(l):\n",
        "    return l % n == 0\n",
        "  for i in range(len(L)):\n",
        "    if check_faktor(L[i]):\n",
        "      L[i]= L[i]/2\n",
        "    else:\n",
        "      L[i]=L[i]*n+1\n",
        "  return L\n"
      ],
      "metadata": {
        "id": "JAw6d2gquy2f"
      },
      "execution_count": null,
      "outputs": []
    },
    {
      "cell_type": "code",
      "source": [
        "n = 3\n",
        "L = [5,6,7,8]\n",
        "print(list(fungsiku2(L)))\n"
      ],
      "metadata": {
        "id": "7qXBIDCyvnsd"
      },
      "execution_count": null,
      "outputs": []
    },
    {
      "cell_type": "code",
      "source": [
        "print(L)"
      ],
      "metadata": {
        "id": "2cMfvBaDwYK2"
      },
      "execution_count": null,
      "outputs": []
    },
    {
      "cell_type": "code",
      "source": [
        "n = 3\n",
        "L = [5,6,7,8]\n",
        "def fungsiku2(L,n):\n",
        "  return list(map(lambda x: x/2 if x%n == 0 else x*n+1, L))\n",
        "print(fungsiku2(L,n))"
      ],
      "metadata": {
        "id": "eRYLEmPYwYYi"
      },
      "execution_count": null,
      "outputs": []
    },
    {
      "cell_type": "code",
      "source": [
        "print(L)"
      ],
      "metadata": {
        "id": "BtYRT4GXw87R"
      },
      "execution_count": null,
      "outputs": []
    },
    {
      "cell_type": "markdown",
      "source": [
        "\n",
        "\n",
        "```\n",
        "Apakah isi dalam tupel tup ada yang\n",
        "dapat diubah?\n",
        "tup = ([3, 4, 5], 'myname')\n",
        "```\n",
        "\n"
      ],
      "metadata": {
        "id": "40zyJm2qxJKA"
      }
    },
    {
      "cell_type": "code",
      "source": [
        "tup1 = ([3,4,5],'myname')\n",
        "tup1[0]= \"sandy\"\n",
        "print('tup 2 : ',tup)"
      ],
      "metadata": {
        "id": "HzO8NG03xG9r"
      },
      "execution_count": null,
      "outputs": []
    },
    {
      "cell_type": "markdown",
      "source": [
        "PERTEMUAN 13- FUNCTION BUILDING FUNCTION"
      ],
      "metadata": {
        "id": "jH8lN2lzzTM_"
      }
    },
    {
      "cell_type": "markdown",
      "source": [
        "\n",
        "\n",
        "```\n",
        "Buatlah fungsi untuk menghitung biaya yang harus dibayar customer pada suatu\n",
        "e-commerce menggunakan higher order function. Buatlah decorator untuk\n",
        "mengeluarkan harga sebelum pajak dan sesudah pajak (pajak = 11%) ! Gunakan\n",
        "decorator untuk menambahkan perhitungan waktu eksekusi!\n",
        "\n",
        "keranjang = [\n",
        "{'Jumlah_barang' :5, 'Harga':10}\n",
        "{'Jumlah_barang' :7, 'Harga':20}\n",
        "{'Jumlah_barang' :20, 'Harga':4.5}\n",
        "]\n",
        "```\n",
        "\n"
      ],
      "metadata": {
        "id": "ZQU2wZyXzhjc"
      }
    },
    {
      "cell_type": "code",
      "source": [
        "from functools import reduce as r\n",
        "keranjang = [\n",
        "  {'Jumlah_barang' :5, 'Harga':10},\n",
        "  {'Jumlah_barang' :7, 'Harga':20},\n",
        "  {'Jumlah_barang' :20, 'Harga':4.5}\n",
        "]\n",
        "def pajak_decorator(func):\n",
        "  def inner(*args, **kwargs):\n",
        "    res = func(*args, **kwargs)\n",
        "    print('sub total : ',res)\n",
        "    print('pajak : ', res * 0.11)\n",
        "    print('total : ', res + res * 0.11)\n",
        "    return res\n",
        "  return inner\n",
        "\n",
        "import time\n",
        "def calc_time_decorator(fu):\n",
        "  def inner(*args, **kwargs):\n",
        "    waktu_awal = time.time()\n",
        "    res = fu(*args, **kwargs)\n",
        "    waktu_akhir = time.time()\n",
        "    print('Waktu eksekusi : ', waktu_akhir - waktu_awal)\n",
        "    return res\n",
        "  return inner"
      ],
      "metadata": {
        "id": "REg57manzg72"
      },
      "execution_count": null,
      "outputs": []
    },
    {
      "cell_type": "code",
      "source": [
        "@calc_time_decorator\n",
        "@pajak_decorator\n",
        "def hitung_pembayaran_1(keranjang):\n",
        "  return r(lambda a,b : a + (b['Jumlah_barang'] * b['Harga']),keranjang,0)\n",
        "hitung_pembayaran_1(keranjang)"
      ],
      "metadata": {
        "id": "WbBDtHM73V2B"
      },
      "execution_count": null,
      "outputs": []
    },
    {
      "cell_type": "code",
      "source": [
        "@calc_time_decorator\n",
        "@pajak_decorator\n",
        "def hitung_pembayaran_2(keranjang):\n",
        "  s= 0\n",
        "  for k in keranjang:\n",
        "    s=s+k['Jumlah_barang']*k['Harga']\n",
        "  return s*1000\n",
        "hitung_pembayaran_2(keranjang)"
      ],
      "metadata": {
        "id": "0A-qUxo02IQE"
      },
      "execution_count": null,
      "outputs": []
    },
    {
      "cell_type": "markdown",
      "source": [
        "**LATIHAN UAS**"
      ],
      "metadata": {
        "id": "o8eQm4aR5-5K"
      }
    },
    {
      "cell_type": "code",
      "source": [
        "import numpy as np\n",
        "from random import randint\n",
        "from functools import reduce as r"
      ],
      "metadata": {
        "id": "r90QLt6x6DHT"
      },
      "execution_count": null,
      "outputs": []
    },
    {
      "cell_type": "code",
      "source": [
        "def fungsi_W(a,b):\n",
        "  W = np.random.uniform(a,b,size=(3,2))\n",
        "  return W\n",
        "W =fungsi_W(-1,1)\n",
        "W"
      ],
      "metadata": {
        "id": "T4cYntm96TKA"
      },
      "execution_count": null,
      "outputs": []
    },
    {
      "cell_type": "code",
      "source": [
        "def fungsi_M(a,b):\n",
        "  M= np.random.uniform(a,b,size=(2,2))\n",
        "  return M\n",
        "M=fungsi_M(-1,1)\n",
        "M"
      ],
      "metadata": {
        "id": "es57Ej6oRPAM"
      },
      "execution_count": null,
      "outputs": []
    },
    {
      "cell_type": "code",
      "source": [
        "def fungsi_H(a,b):\n",
        "  H= np.random.uniform(a, b, size=(2, 1))\n",
        "  return H\n",
        "H = fungsi_H(-1,1)\n",
        "H"
      ],
      "metadata": {
        "id": "jWnJdN5i62oZ"
      },
      "execution_count": null,
      "outputs": []
    },
    {
      "cell_type": "code",
      "source": [
        "X=[0,3,4]"
      ],
      "metadata": {
        "id": "MhEkcnXH7lQc"
      },
      "execution_count": null,
      "outputs": []
    },
    {
      "cell_type": "code",
      "source": [
        "import time\n",
        "def calc_time_decorator(func):\n",
        "  def inner(*args,**kwargs):\n",
        "    start = time.time()\n",
        "    res = func(*args,**kwargs)\n",
        "    end = time.time()\n",
        "    print('Time : ',end - start)\n",
        "    return res\n",
        "  return inner"
      ],
      "metadata": {
        "id": "gF-IZDVb7qUB"
      },
      "execution_count": null,
      "outputs": []
    },
    {
      "cell_type": "code",
      "source": [
        "import math\n",
        "def aktivasi(x):\n",
        "  return (math.exp(x)-math.exp(-x))/(math.exp(x)+ math.exp(-x))\n",
        "def WTi(W,i):\n",
        "  return list(map(lambda w: w [i], W))\n",
        "def WT(W):\n",
        "  return list(map(lambda i : WTi(W,i),range(0,len(W[0]))))\n",
        "def XW(X,W):\n",
        "  return map(lambda w:r (lambda x,y : x+y, map(lambda xx,ww : xx*ww, X, w)),WT(W))\n",
        "\n",
        "def input_to_hidden(X,W):\n",
        "  return map(lambda x: aktivasi(x), XW(X,W))\n",
        "\n",
        "A = list(input_to_hidden(X,W))\n",
        "\n",
        "def MTi(M,i):\n",
        "  return list(map(lambda m: m[i], M))\n",
        "def MT(M):\n",
        "  return list(map(lambda i : MTi(M,i), range(0,len(M[0]))))\n",
        "def AM(A,M):\n",
        "  return map(lambda m:r(lambda x,y : x+y, map(lambda aa,mm : aa*mm, A,m)),MT(M))\n",
        "def hidden_to_hidden(A,M):\n",
        "  return map(lambda a:a, AM(A,M))\n",
        "\n",
        "@calc_time_decorator\n",
        "def feed_forward(A,M,H):\n",
        "  return hidden_to_hidden(hidden_to_hidden(A,M),H)"
      ],
      "metadata": {
        "id": "d9OaFfWI8Nxs"
      },
      "execution_count": null,
      "outputs": []
    },
    {
      "cell_type": "code",
      "source": [
        "print(list(feed_forward(A,M,H)))"
      ],
      "metadata": {
        "id": "WgX6EBOVPcRw"
      },
      "execution_count": null,
      "outputs": []
    },
    {
      "cell_type": "markdown",
      "source": [
        "**JURNAL MODUL 1**\n",
        "\n",
        "```\n",
        "Seorang mahasiswa sains data ingin menyewa buku dari sebuah startup yang menyediakan layanan sewa buku. Startup\n",
        "tersebut memiliki ketentuan sewa dengan aturan sebagai berikut:\n",
        "a. Harga sewa buku berbeda-beda sesuai dengan kategorinya\n",
        "b. Harga sewa buku dihitung berdasarkan jumlah halaman nya\n",
        "c. Harga sewa buku dihitung per hari nya\n",
        "d. Maksimal durasi sewa adalah 26 hari\n",
        "Startup tersebut masih dalam tahap awal pengembangan, sehingga ingin melakukan uji coba penyewaan 5 kategori buku.\n",
        "Berikut rincian kategori nya:\n",
        "- Kategori 1 : 100 rupiah per lembar per hari\n",
        "- Kategori 2 : 200 rupiah per lembar per hari\n",
        "- Kategori 3 : 250 rupiah per lembar per hari\n",
        "- Kategori 4 : 300 rupiah per lembar per hari\n",
        "- Kategori 5 : 500 rupiah per lembar per hari\n",
        "Startup tersebut memerlukan sebuah program untuk:\n",
        "• menghitung total biaya dari customer\n",
        "• mencatat tanggal awal sewa, dan durasi hari\n",
        "• menampilkan informasi kapan tanggal pengembalian buku dari customer\n",
        "Format input tanggal adalah yyyy-mm-dd\n",
        "Bantulah startup tersebut membuat program tersebut dengan menggunakan konsep modularisasi!\n",
        "```\n",
        "\n"
      ],
      "metadata": {
        "id": "eALvAv5VSJ5k"
      }
    },
    {
      "cell_type": "code",
      "source": [
        "tanggal = input('Tanggal Pinjam :') # 2020-01-02\n",
        "durasi = int(input('Durasi Pinjam :')) # 25\n",
        "kategoris = {\n",
        " 1 : 100,\n",
        " 2 : 200,\n",
        " 3 : 250,\n",
        " 4 : 300,\n",
        " 5 : 500\n",
        "}"
      ],
      "metadata": {
        "id": "m4s7AikmT1Jy"
      },
      "execution_count": null,
      "outputs": []
    },
    {
      "cell_type": "code",
      "source": [
        "def dtl(s_tgl):\n",
        " return [int(k) for k in s_tgl.split('-')]\n",
        "def is_cm(tgl_p,d,c):\n",
        " return tgl_p[2] + 2 > c\n",
        "def thn_back(tgl_p,d,c):\n",
        " return tgl_p[0]+1 if (is_cm(tgl_p,d,c) and tgl_p[1] == 12) else tgl_p[0]\n",
        "def bln_back(tgl_p,d,c):\n",
        " return(tgl_p[1] % 12)+1 if is_cm(tgl_p,d,c) else tgl_p[1]\n",
        "def tgl_back(tgl_p,d,c):\n",
        " return tgl_p[2] + d - c if is_cm(tgl_p,d,c) else tgl_p[2] + d\n",
        "def is_awal_abad(thn):\n",
        " return thn % 100 == 0\n",
        "def kabisat(thn):\n",
        " return(is_awal_abad(thn) and thn % 400 == 0) or (not is_awal_abad(thn) and thn % 4 == 0)\n",
        "def dec_c(t):\n",
        " return 30 + (t[1]%2 if t[1] <= 8 else abs ((t[1] % 2) - 1)) if t[1]!= 2 else (29 if kabisat (t[0]) else 28)\n",
        "def wkt_kembali(tgl_p,d):\n",
        " return [ thn_back(tgl_p,d, dec_c(tgl_p)), bln_back(tgl_p,d,dec_c(tgl_p)), tgl_back(tgl_p,d,dec_c(tgl_p))]"
      ],
      "metadata": {
        "id": "M6YAXE8YUFwU"
      },
      "execution_count": null,
      "outputs": []
    },
    {
      "cell_type": "code",
      "source": [
        "# tanggal = '2022-2-27'\n",
        "# durasi = 1\n",
        "tgl_p = dtl(tanggal)\n",
        "wkt_kembali(tgl_p,durasi)"
      ],
      "metadata": {
        "id": "B6xLP_TRURDd"
      },
      "execution_count": null,
      "outputs": []
    },
    {
      "cell_type": "code",
      "source": [
        "sewaan_all = [ [1,5], [2,3], [3,0], [4,1], [5,2]]\n",
        "def calc_biaya_per_kategori(kategoris,sewaan):\n",
        " return sewaan[1] * kategoris.get( sewaan[0] )\n",
        "def calc_all_biaya(kategoris,sewaan_all,durasi):\n",
        " return sum( [calc_biaya_per_kategori(kategoris,sewaan) for sewaan in sewaan_all]) * durasi"
      ],
      "metadata": {
        "id": "SJQCQsZsUm1U"
      },
      "execution_count": null,
      "outputs": []
    },
    {
      "cell_type": "code",
      "source": [
        "calc_all_biaya(kategoris,sewaan_all,durasi)"
      ],
      "metadata": {
        "id": "KcN_UI8BUokv"
      },
      "execution_count": null,
      "outputs": []
    },
    {
      "cell_type": "markdown",
      "source": [
        "**JURNAL MODUL 2**\n",
        "\n",
        "\n",
        "```\n",
        "Kerjakan seluruh soal berikut dengan menggunakan higher order function map,filter dan reduce!\n",
        "1. Buatlah sebuah fungsi bernama ulangi_NIM, ulangi memiliki input sebuah bilangan skalar a, dan mengeluarkan vektor\n",
        "1xn dengan seluruh elemen nya adalah a !\n",
        "```\n",
        "\n"
      ],
      "metadata": {
        "id": "AvhM8V34Uwah"
      }
    },
    {
      "cell_type": "code",
      "source": [
        "def ulangi_120450047(a): # fungsi ulangi_NIM memiliki input parameter/argumen yaitu variabel a sebagai bilangan skalar da\n",
        " return list(map(lambda x:a, range(a))) # Rumusnya adalah memanggil variabel a sebanyak 1 x a\n",
        "ulangi_120450047(5) # Output dari fungsi ulangi_NIM adalah map dengan menggunakan fungsi lambda dan built-in."
      ],
      "metadata": {
        "id": "CIO6SEqrUt3w"
      },
      "execution_count": null,
      "outputs": []
    },
    {
      "cell_type": "code",
      "source": [
        "# Cara_2\n",
        "a = 1 # Dideklarasikan variabel a = 1 (sebagai bilangan skalar)\n",
        "n = 5 # Dideklarasikan banyaknya output pada variabel a (sebagai dimensi vektor 1 x n)\n",
        "print(list(map(lambda x:a, range(n)))) # Output dari fungsi ulangi_NIM adalah map dengan menggunakan fungsi lambda dan built in"
      ],
      "metadata": {
        "id": "jh3MMJsmVWmm"
      },
      "execution_count": null,
      "outputs": []
    },
    {
      "cell_type": "markdown",
      "source": [
        "\n",
        "\n",
        "```\n",
        "`2. Buatlah deret bilangan sebagai berikut dengan input n sebagai panjang deret:\n",
        "    1/2, -1/4, ...,(-1)^n 1/ 2^n+1\n",
        "```\n",
        "\n"
      ],
      "metadata": {
        "id": "GLfxYl2VVpMZ"
      }
    },
    {
      "cell_type": "code",
      "source": [
        "n = 5 # inputan\n",
        "deret = list(map(lambda x: ((-1)**(x)) * (1/(2**(x+1))), range(0,n))) # Fungsi map untuk iterable n\n",
        "# Rumus deretnya menggunakan fungsi lambda untuk menghitung deret bilangan pecahan diatas dengan batas iterasi 0 sampai n\n",
        "print(deret)"
      ],
      "metadata": {
        "id": "E7ekmXFmWV5y"
      },
      "execution_count": null,
      "outputs": []
    },
    {
      "cell_type": "code",
      "source": [
        "b = range(1,n+1) \n",
        "def pola_deret(x):\n",
        " return (((-1)**(x+1)) * (1/(2**x)))"
      ],
      "metadata": {
        "id": "cznmlp8lWeAO"
      },
      "execution_count": null,
      "outputs": []
    },
    {
      "cell_type": "markdown",
      "source": [
        "3. Jumlahkan deret bilangan tersebut! (deret pada soal 2)"
      ],
      "metadata": {
        "id": "RJAAYO_uWrjs"
      }
    },
    {
      "cell_type": "code",
      "source": [
        "from functools import reduce # Import library functools.reduce(function, iterable, initializer) dengan initializer adalah\n",
        "print(reduce(lambda x,y: x+y, deret)) # Menyimpan nilai sebelumnya dan menambahkan nilai yang baru dari jumlah deret bilangan"
      ],
      "metadata": {
        "id": "qbr_wom1Whk0"
      },
      "execution_count": null,
      "outputs": []
    },
    {
      "cell_type": "markdown",
      "source": [
        "4. Sebuah DNA dimodelkan dalam sebuah string menjadi sequence TCGA dan disimpan kedalam data :\n",
        "\n",
        "\n",
        "```\n",
        "https://drive.google.com/file/d/18C1ylsTXrY9pglqqlhijoS8LYmcxdIjM/view?usp=sharing\n",
        "(https://drive.google.com/file/d/18C1ylsTXrY9pglqqlhijoS8LYmcxdIjM/view?usp=sharing)\n",
        "hitunglah jumlah kemunculan pola berikut pada data tersebut:\n",
        "a. A\n",
        "b. AT\n",
        "c. GGT\n",
        "d. AAGC\n",
        "e. AGCTA\n",
        "```\n",
        "\n"
      ],
      "metadata": {
        "id": "0DZMyGlzW7Ln"
      }
    },
    {
      "cell_type": "code",
      "source": [
        "data = open('DNA.txt','r') # Open source text.txt\n",
        "data = data.read() # Membaca source text.txt\n",
        "# print(data) # Output source text.txt"
      ],
      "metadata": {
        "id": "X4AJ9lZvW3Li"
      },
      "execution_count": null,
      "outputs": []
    },
    {
      "cell_type": "code",
      "source": [
        "filename = 'DNA.txt' # File source text.txt\n",
        "dat = open(filename,'r').read() # Open file source text.txt\n",
        "dat = dat[:-1] # Batas\n",
        "seq = 'ACT' # Mengurutkan ACT dibaris akhir batas data DNA \n",
        "# data"
      ],
      "metadata": {
        "id": "catbUumjXrRy"
      },
      "execution_count": null,
      "outputs": []
    },
    {
      "cell_type": "code",
      "source": [
        "def append_n(dat,i,n): # Fungsi append_n adalah menambahkan nilai array pada nilai akhir\n",
        " return reduce(lambda a,b: a+b, dat[i:i+n]) # Rumusnya a nilai sebelumnya data DNA, b nilai yang baru dari data DNA de\n",
        "def remap(dat,seq): # Fungsi remap adalah memetakan kembali dari sequence yang baru\n",
        " return map(lambda x: append_n(dat,x,len(seq)), range(len(dat) - len(seq))) # Banyaknya urutan dikurang banyaknya komb\n",
        "def count_mer(dat,seq): # Fungsi count_mer\n",
        " return reduce(lambda a,b: a + (1 if b==seq else 0), remap(dat,seq), 0) # Pada fungsi ke-2 remap dihitung jumlah seque"
      ],
      "metadata": {
        "id": "uJl41E03Xtuo"
      },
      "execution_count": null,
      "outputs": []
    },
    {
      "cell_type": "code",
      "source": [
        "# data[0:3]\n",
        "# list(remap(dat,'ACT'))\n",
        "# append_n(dat,0,3)\n",
        "\n",
        "sequences = ['A','AT','GGT','AAGC','AGCTA'] # Terdapat list dari sequence yang akan kita cari\n",
        "def count_all(dat,sequences):\n",
        " return map(lambda x: count_mer(dat,x), sequences) # Melakukan perhitungan mer pada setiap sequence yang ada dalam lis\n",
        "res = count_all(dat,sequences) # Memanggil semua jumlah sequence yang dicari\n",
        "print(* res)"
      ],
      "metadata": {
        "id": "Ylcg3ygNYAf7"
      },
      "execution_count": null,
      "outputs": []
    },
    {
      "cell_type": "markdown",
      "source": [
        "\n",
        "\n",
        "```\n",
        "5. Reverse complement dari suatu sequence string DNA memiliki aturan sebagai berikut:\n",
        "A adalah komplemen dari T\n",
        "C adalah komplemen dari G\n",
        "Contoh reverse complement:\n",
        "input DNA : ACTGA\n",
        "Reverse complmenet : TGACT\n",
        "Buatlah fungsi untuk mencari inverse komplemen dari data pada nomor 4 !\n",
        "```\n",
        "\n"
      ],
      "metadata": {
        "id": "P7M8erXKY_sn"
      }
    },
    {
      "cell_type": "code",
      "source": [
        "def komplemen(x):\n",
        " return {'A':'T', 'T':'A', 'C':'G', 'G':'C'}.get(x) # Kamus(dictionary) pengubahan huruf diambil x sesuai dengan key\n",
        "def reverse_komplemen(dat):\n",
        " return map(lambda x:komplemen(x), dat) # Setiap data yang ada diubah sesuai dengan dictionary pengubahan"
      ],
      "metadata": {
        "id": "AtrCURl4YFWT"
      },
      "execution_count": null,
      "outputs": []
    },
    {
      "cell_type": "code",
      "source": [
        "res = reverse_komplemen(dat)\n",
        "print(*res)"
      ],
      "metadata": {
        "id": "KygHcZwKZmg_"
      },
      "execution_count": null,
      "outputs": []
    },
    {
      "cell_type": "markdown",
      "source": [
        "\n",
        "\n",
        "```\n",
        "6. Buatlah fungsi feed-forward dengan input berikut:\n",
        "W11 = 0.5\n",
        "W12 = 0.4\n",
        "W21 = 0.3\n",
        "W22 = 0.7\n",
        "W31 = 0.25\n",
        "W32 = 0.9\n",
        "M11 = 0.34\n",
        "M21 = 0.45\n",
        "dan X1 = 9 , X2 = 10 , X3 = -4\n",
        "```\n",
        "\n"
      ],
      "metadata": {
        "id": "Q0Q0QKZjZ-48"
      }
    },
    {
      "cell_type": "code",
      "source": [
        "import math # Merupakan module yang akan digunakan dalam case ini\n",
        "def aktivasi(x):\n",
        " return 1/ (1+ math.exp(-x)) # x dijadikan bentuk yang bisa digunakan dalam case ini dengan fungsi euclidean\n",
        "def WTi(W,i):\n",
        " return list(map(lambda w:w[i], W)) # Index yang tercantum dalam W digunakan didalam list\n",
        "def WT(W):\n",
        " return list(map(lambda i : WTi(W, i), range(len(W[0]))))\n",
        "def XW(X,W):\n",
        " return map( lambda w: reduce (lambda a,b:a+b, map(lambda xx, ww: xx * ww, X, w), 0), WT(W)) # Memuat w ke layer perta\n",
        "def input_to_hidden(X,W):\n",
        " return list(map(lambda x:aktivasi(x), XW(X,W))) # Menginput aktivasi tersembunyi\n",
        "def feed_forward(X,W,M):\n",
        " return input_to_hidden(input_to_hidden(X,W), M) # Membuat fungsi feed forward"
      ],
      "metadata": {
        "id": "WTcHB2m2aFj0"
      },
      "execution_count": null,
      "outputs": []
    },
    {
      "cell_type": "code",
      "source": [
        "X = [9, 10, -4]\n",
        "W = [[0.5, 0.4], [0.3, 0.7], [0.25, 0.9]]\n",
        "M = [[0.34], [0.45]]\n",
        "# Supaya pola sesuai dengan apa yang dibuat, bentuk W harus sama dengan M\n",
        "feed_forward(X,W,M) # Output fungsi feed_forward"
      ],
      "metadata": {
        "id": "WA_WZV98aZAy"
      },
      "execution_count": null,
      "outputs": []
    },
    {
      "cell_type": "code",
      "source": [
        " WTi(W,0)"
      ],
      "metadata": {
        "id": "Eed3Nf8nai-K"
      },
      "execution_count": null,
      "outputs": []
    },
    {
      "cell_type": "code",
      "source": [
        " X"
      ],
      "metadata": {
        "id": "AI_mcfSpav57"
      },
      "execution_count": null,
      "outputs": []
    }
  ]
}